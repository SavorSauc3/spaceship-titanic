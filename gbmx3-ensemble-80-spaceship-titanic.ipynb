{
 "cells": [
  {
   "cell_type": "code",
   "execution_count": 1,
   "id": "2190c701",
   "metadata": {
    "_cell_guid": "b1076dfc-b9ad-4769-8c92-a6c4dae69d19",
    "_uuid": "8f2839f25d086af736a60e9eeb907d3b93b6e0e5",
    "execution": {
     "iopub.execute_input": "2023-08-17T16:57:04.854216Z",
     "iopub.status.busy": "2023-08-17T16:57:04.853749Z",
     "iopub.status.idle": "2023-08-17T16:57:04.870572Z",
     "shell.execute_reply": "2023-08-17T16:57:04.869318Z"
    },
    "papermill": {
     "duration": 0.037519,
     "end_time": "2023-08-17T16:57:04.873121",
     "exception": false,
     "start_time": "2023-08-17T16:57:04.835602",
     "status": "completed"
    },
    "tags": []
   },
   "outputs": [
    {
     "name": "stdout",
     "output_type": "stream",
     "text": [
      "/kaggle/input/spaceship-titanic/sample_submission.csv\n",
      "/kaggle/input/spaceship-titanic/train.csv\n",
      "/kaggle/input/spaceship-titanic/test.csv\n"
     ]
    }
   ],
   "source": [
    "# This Python 3 environment comes with many helpful analytics libraries installed\n",
    "# It is defined by the kaggle/python Docker image: https://github.com/kaggle/docker-python\n",
    "# For example, here's several helpful packages to load\n",
    "\n",
    "import numpy as np # linear algebra\n",
    "import pandas as pd # data processing, CSV file I/O (e.g. pd.read_csv)\n",
    "\n",
    "# Input data files are available in the read-only \"../input/\" directory\n",
    "# For example, running this (by clicking run or pressing Shift+Enter) will list all files under the input directory\n",
    "\n",
    "import os\n",
    "for dirname, _, filenames in os.walk('/kaggle/input'):\n",
    "    for filename in filenames:\n",
    "        print(os.path.join(dirname, filename))\n",
    "\n",
    "# You can write up to 20GB to the current directory (/kaggle/working/) that gets preserved as output when you create a version using \"Save & Run All\" \n",
    "# You can also write temporary files to /kaggle/temp/, but they won't be saved outside of the current session"
   ]
  },
  {
   "cell_type": "code",
   "execution_count": 2,
   "id": "055a5149",
   "metadata": {
    "execution": {
     "iopub.execute_input": "2023-08-17T16:57:04.902607Z",
     "iopub.status.busy": "2023-08-17T16:57:04.902175Z",
     "iopub.status.idle": "2023-08-17T16:57:05.011518Z",
     "shell.execute_reply": "2023-08-17T16:57:05.010483Z"
    },
    "papermill": {
     "duration": 0.127164,
     "end_time": "2023-08-17T16:57:05.014300",
     "exception": false,
     "start_time": "2023-08-17T16:57:04.887136",
     "status": "completed"
    },
    "tags": []
   },
   "outputs": [],
   "source": [
    "# Set up initial data\n",
    "train_df = pd.read_csv('/kaggle/input/spaceship-titanic/train.csv')\n",
    "test_df = pd.read_csv('/kaggle/input/spaceship-titanic/test.csv')"
   ]
  },
  {
   "cell_type": "code",
   "execution_count": 3,
   "id": "c183731b",
   "metadata": {
    "execution": {
     "iopub.execute_input": "2023-08-17T16:57:05.044902Z",
     "iopub.status.busy": "2023-08-17T16:57:05.043840Z",
     "iopub.status.idle": "2023-08-17T16:57:05.052178Z",
     "shell.execute_reply": "2023-08-17T16:57:05.051190Z"
    },
    "papermill": {
     "duration": 0.02652,
     "end_time": "2023-08-17T16:57:05.054536",
     "exception": false,
     "start_time": "2023-08-17T16:57:05.028016",
     "status": "completed"
    },
    "tags": []
   },
   "outputs": [
    {
     "data": {
      "text/plain": [
       "8693"
      ]
     },
     "execution_count": 3,
     "metadata": {},
     "output_type": "execute_result"
    }
   ],
   "source": [
    "train_df_len = len(train_df)\n",
    "train_df_len"
   ]
  },
  {
   "cell_type": "code",
   "execution_count": 4,
   "id": "af4ef608",
   "metadata": {
    "execution": {
     "iopub.execute_input": "2023-08-17T16:57:05.085231Z",
     "iopub.status.busy": "2023-08-17T16:57:05.084360Z",
     "iopub.status.idle": "2023-08-17T16:57:05.090687Z",
     "shell.execute_reply": "2023-08-17T16:57:05.089792Z"
    },
    "papermill": {
     "duration": 0.024136,
     "end_time": "2023-08-17T16:57:05.092823",
     "exception": false,
     "start_time": "2023-08-17T16:57:05.068687",
     "status": "completed"
    },
    "tags": []
   },
   "outputs": [
    {
     "data": {
      "text/plain": [
       "4277"
      ]
     },
     "execution_count": 4,
     "metadata": {},
     "output_type": "execute_result"
    }
   ],
   "source": [
    "test_df_len = len(test_df)\n",
    "test_df_len"
   ]
  },
  {
   "cell_type": "code",
   "execution_count": 5,
   "id": "f401fcb9",
   "metadata": {
    "execution": {
     "iopub.execute_input": "2023-08-17T16:57:05.123675Z",
     "iopub.status.busy": "2023-08-17T16:57:05.122816Z",
     "iopub.status.idle": "2023-08-17T16:57:05.145925Z",
     "shell.execute_reply": "2023-08-17T16:57:05.145048Z"
    },
    "papermill": {
     "duration": 0.041283,
     "end_time": "2023-08-17T16:57:05.148124",
     "exception": false,
     "start_time": "2023-08-17T16:57:05.106841",
     "status": "completed"
    },
    "tags": []
   },
   "outputs": [
    {
     "data": {
      "text/plain": [
       "12970"
      ]
     },
     "execution_count": 5,
     "metadata": {},
     "output_type": "execute_result"
    }
   ],
   "source": [
    "# Need these to be able to manipulate data better for both the train and test sets\n",
    "def combine_df(train_df, test_df):\n",
    "    combined_df = pd.concat([train_df, test_df], ignore_index=True)\n",
    "    return combined_df\n",
    "\n",
    "def separate_df(combined_df, train_df_len, test_df_len):\n",
    "    train_df = combined_df.iloc[:train_df_len]\n",
    "    test_df = combined_df.iloc[train_df_len:train_df_len + test_df_len]\n",
    "    return train_df, test_df\n",
    "\n",
    "full_df = combine_df(train_df, test_df)\n",
    "len(full_df)"
   ]
  },
  {
   "cell_type": "code",
   "execution_count": 6,
   "id": "f095ea4f",
   "metadata": {
    "execution": {
     "iopub.execute_input": "2023-08-17T16:57:05.179238Z",
     "iopub.status.busy": "2023-08-17T16:57:05.177764Z",
     "iopub.status.idle": "2023-08-17T16:57:05.226368Z",
     "shell.execute_reply": "2023-08-17T16:57:05.225264Z"
    },
    "papermill": {
     "duration": 0.066941,
     "end_time": "2023-08-17T16:57:05.229017",
     "exception": false,
     "start_time": "2023-08-17T16:57:05.162076",
     "status": "completed"
    },
    "tags": []
   },
   "outputs": [
    {
     "name": "stderr",
     "output_type": "stream",
     "text": [
      "/opt/conda/lib/python3.10/site-packages/IPython/lib/pretty.py:778: FutureWarning: In a future version, object-dtype columns with all-bool values will not be included in reductions with bool_only=True. Explicitly cast to bool dtype instead.\n",
      "  output = repr(obj)\n",
      "/opt/conda/lib/python3.10/site-packages/IPython/core/formatters.py:344: FutureWarning: In a future version, object-dtype columns with all-bool values will not be included in reductions with bool_only=True. Explicitly cast to bool dtype instead.\n",
      "  return method()\n"
     ]
    },
    {
     "data": {
      "text/html": [
       "<div>\n",
       "<style scoped>\n",
       "    .dataframe tbody tr th:only-of-type {\n",
       "        vertical-align: middle;\n",
       "    }\n",
       "\n",
       "    .dataframe tbody tr th {\n",
       "        vertical-align: top;\n",
       "    }\n",
       "\n",
       "    .dataframe thead th {\n",
       "        text-align: right;\n",
       "    }\n",
       "</style>\n",
       "<table border=\"1\" class=\"dataframe\">\n",
       "  <thead>\n",
       "    <tr style=\"text-align: right;\">\n",
       "      <th></th>\n",
       "      <th>PassengerId</th>\n",
       "      <th>HomePlanet</th>\n",
       "      <th>CryoSleep</th>\n",
       "      <th>Cabin</th>\n",
       "      <th>Destination</th>\n",
       "      <th>Age</th>\n",
       "      <th>VIP</th>\n",
       "      <th>RoomService</th>\n",
       "      <th>FoodCourt</th>\n",
       "      <th>ShoppingMall</th>\n",
       "      <th>Spa</th>\n",
       "      <th>VRDeck</th>\n",
       "      <th>Name</th>\n",
       "      <th>Transported</th>\n",
       "    </tr>\n",
       "  </thead>\n",
       "  <tbody>\n",
       "    <tr>\n",
       "      <th>0</th>\n",
       "      <td>0001_01</td>\n",
       "      <td>Europa</td>\n",
       "      <td>False</td>\n",
       "      <td>B/0/P</td>\n",
       "      <td>TRAPPIST-1e</td>\n",
       "      <td>39.0</td>\n",
       "      <td>False</td>\n",
       "      <td>0.0</td>\n",
       "      <td>0.0</td>\n",
       "      <td>0.0</td>\n",
       "      <td>0.0</td>\n",
       "      <td>0.0</td>\n",
       "      <td>Maham Ofracculy</td>\n",
       "      <td>False</td>\n",
       "    </tr>\n",
       "    <tr>\n",
       "      <th>1</th>\n",
       "      <td>0002_01</td>\n",
       "      <td>Earth</td>\n",
       "      <td>False</td>\n",
       "      <td>F/0/S</td>\n",
       "      <td>TRAPPIST-1e</td>\n",
       "      <td>24.0</td>\n",
       "      <td>False</td>\n",
       "      <td>109.0</td>\n",
       "      <td>9.0</td>\n",
       "      <td>25.0</td>\n",
       "      <td>549.0</td>\n",
       "      <td>44.0</td>\n",
       "      <td>Juanna Vines</td>\n",
       "      <td>True</td>\n",
       "    </tr>\n",
       "    <tr>\n",
       "      <th>2</th>\n",
       "      <td>0003_01</td>\n",
       "      <td>Europa</td>\n",
       "      <td>False</td>\n",
       "      <td>A/0/S</td>\n",
       "      <td>TRAPPIST-1e</td>\n",
       "      <td>58.0</td>\n",
       "      <td>True</td>\n",
       "      <td>43.0</td>\n",
       "      <td>3576.0</td>\n",
       "      <td>0.0</td>\n",
       "      <td>6715.0</td>\n",
       "      <td>49.0</td>\n",
       "      <td>Altark Susent</td>\n",
       "      <td>False</td>\n",
       "    </tr>\n",
       "    <tr>\n",
       "      <th>3</th>\n",
       "      <td>0003_02</td>\n",
       "      <td>Europa</td>\n",
       "      <td>False</td>\n",
       "      <td>A/0/S</td>\n",
       "      <td>TRAPPIST-1e</td>\n",
       "      <td>33.0</td>\n",
       "      <td>False</td>\n",
       "      <td>0.0</td>\n",
       "      <td>1283.0</td>\n",
       "      <td>371.0</td>\n",
       "      <td>3329.0</td>\n",
       "      <td>193.0</td>\n",
       "      <td>Solam Susent</td>\n",
       "      <td>False</td>\n",
       "    </tr>\n",
       "    <tr>\n",
       "      <th>4</th>\n",
       "      <td>0004_01</td>\n",
       "      <td>Earth</td>\n",
       "      <td>False</td>\n",
       "      <td>F/1/S</td>\n",
       "      <td>TRAPPIST-1e</td>\n",
       "      <td>16.0</td>\n",
       "      <td>False</td>\n",
       "      <td>303.0</td>\n",
       "      <td>70.0</td>\n",
       "      <td>151.0</td>\n",
       "      <td>565.0</td>\n",
       "      <td>2.0</td>\n",
       "      <td>Willy Santantines</td>\n",
       "      <td>True</td>\n",
       "    </tr>\n",
       "    <tr>\n",
       "      <th>...</th>\n",
       "      <td>...</td>\n",
       "      <td>...</td>\n",
       "      <td>...</td>\n",
       "      <td>...</td>\n",
       "      <td>...</td>\n",
       "      <td>...</td>\n",
       "      <td>...</td>\n",
       "      <td>...</td>\n",
       "      <td>...</td>\n",
       "      <td>...</td>\n",
       "      <td>...</td>\n",
       "      <td>...</td>\n",
       "      <td>...</td>\n",
       "      <td>...</td>\n",
       "    </tr>\n",
       "    <tr>\n",
       "      <th>12965</th>\n",
       "      <td>9266_02</td>\n",
       "      <td>Earth</td>\n",
       "      <td>True</td>\n",
       "      <td>G/1496/S</td>\n",
       "      <td>TRAPPIST-1e</td>\n",
       "      <td>34.0</td>\n",
       "      <td>False</td>\n",
       "      <td>0.0</td>\n",
       "      <td>0.0</td>\n",
       "      <td>0.0</td>\n",
       "      <td>0.0</td>\n",
       "      <td>0.0</td>\n",
       "      <td>Jeron Peter</td>\n",
       "      <td>NaN</td>\n",
       "    </tr>\n",
       "    <tr>\n",
       "      <th>12966</th>\n",
       "      <td>9269_01</td>\n",
       "      <td>Earth</td>\n",
       "      <td>False</td>\n",
       "      <td>NaN</td>\n",
       "      <td>TRAPPIST-1e</td>\n",
       "      <td>42.0</td>\n",
       "      <td>False</td>\n",
       "      <td>0.0</td>\n",
       "      <td>847.0</td>\n",
       "      <td>17.0</td>\n",
       "      <td>10.0</td>\n",
       "      <td>144.0</td>\n",
       "      <td>Matty Scheron</td>\n",
       "      <td>NaN</td>\n",
       "    </tr>\n",
       "    <tr>\n",
       "      <th>12967</th>\n",
       "      <td>9271_01</td>\n",
       "      <td>Mars</td>\n",
       "      <td>True</td>\n",
       "      <td>D/296/P</td>\n",
       "      <td>55 Cancri e</td>\n",
       "      <td>NaN</td>\n",
       "      <td>False</td>\n",
       "      <td>0.0</td>\n",
       "      <td>0.0</td>\n",
       "      <td>0.0</td>\n",
       "      <td>0.0</td>\n",
       "      <td>0.0</td>\n",
       "      <td>Jayrin Pore</td>\n",
       "      <td>NaN</td>\n",
       "    </tr>\n",
       "    <tr>\n",
       "      <th>12968</th>\n",
       "      <td>9273_01</td>\n",
       "      <td>Europa</td>\n",
       "      <td>False</td>\n",
       "      <td>D/297/P</td>\n",
       "      <td>NaN</td>\n",
       "      <td>NaN</td>\n",
       "      <td>False</td>\n",
       "      <td>0.0</td>\n",
       "      <td>2680.0</td>\n",
       "      <td>0.0</td>\n",
       "      <td>0.0</td>\n",
       "      <td>523.0</td>\n",
       "      <td>Kitakan Conale</td>\n",
       "      <td>NaN</td>\n",
       "    </tr>\n",
       "    <tr>\n",
       "      <th>12969</th>\n",
       "      <td>9277_01</td>\n",
       "      <td>Earth</td>\n",
       "      <td>True</td>\n",
       "      <td>G/1498/S</td>\n",
       "      <td>PSO J318.5-22</td>\n",
       "      <td>43.0</td>\n",
       "      <td>False</td>\n",
       "      <td>0.0</td>\n",
       "      <td>0.0</td>\n",
       "      <td>0.0</td>\n",
       "      <td>0.0</td>\n",
       "      <td>0.0</td>\n",
       "      <td>Lilace Leonzaley</td>\n",
       "      <td>NaN</td>\n",
       "    </tr>\n",
       "  </tbody>\n",
       "</table>\n",
       "<p>12970 rows × 14 columns</p>\n",
       "</div>"
      ],
      "text/plain": [
       "      PassengerId HomePlanet CryoSleep     Cabin    Destination   Age    VIP  \\\n",
       "0         0001_01     Europa     False     B/0/P    TRAPPIST-1e  39.0  False   \n",
       "1         0002_01      Earth     False     F/0/S    TRAPPIST-1e  24.0  False   \n",
       "2         0003_01     Europa     False     A/0/S    TRAPPIST-1e  58.0   True   \n",
       "3         0003_02     Europa     False     A/0/S    TRAPPIST-1e  33.0  False   \n",
       "4         0004_01      Earth     False     F/1/S    TRAPPIST-1e  16.0  False   \n",
       "...           ...        ...       ...       ...            ...   ...    ...   \n",
       "12965     9266_02      Earth      True  G/1496/S    TRAPPIST-1e  34.0  False   \n",
       "12966     9269_01      Earth     False       NaN    TRAPPIST-1e  42.0  False   \n",
       "12967     9271_01       Mars      True   D/296/P    55 Cancri e   NaN  False   \n",
       "12968     9273_01     Europa     False   D/297/P            NaN   NaN  False   \n",
       "12969     9277_01      Earth      True  G/1498/S  PSO J318.5-22  43.0  False   \n",
       "\n",
       "       RoomService  FoodCourt  ShoppingMall     Spa  VRDeck  \\\n",
       "0              0.0        0.0           0.0     0.0     0.0   \n",
       "1            109.0        9.0          25.0   549.0    44.0   \n",
       "2             43.0     3576.0           0.0  6715.0    49.0   \n",
       "3              0.0     1283.0         371.0  3329.0   193.0   \n",
       "4            303.0       70.0         151.0   565.0     2.0   \n",
       "...            ...        ...           ...     ...     ...   \n",
       "12965          0.0        0.0           0.0     0.0     0.0   \n",
       "12966          0.0      847.0          17.0    10.0   144.0   \n",
       "12967          0.0        0.0           0.0     0.0     0.0   \n",
       "12968          0.0     2680.0           0.0     0.0   523.0   \n",
       "12969          0.0        0.0           0.0     0.0     0.0   \n",
       "\n",
       "                    Name Transported  \n",
       "0        Maham Ofracculy       False  \n",
       "1           Juanna Vines        True  \n",
       "2          Altark Susent       False  \n",
       "3           Solam Susent       False  \n",
       "4      Willy Santantines        True  \n",
       "...                  ...         ...  \n",
       "12965        Jeron Peter         NaN  \n",
       "12966      Matty Scheron         NaN  \n",
       "12967        Jayrin Pore         NaN  \n",
       "12968     Kitakan Conale         NaN  \n",
       "12969   Lilace Leonzaley         NaN  \n",
       "\n",
       "[12970 rows x 14 columns]"
      ]
     },
     "execution_count": 6,
     "metadata": {},
     "output_type": "execute_result"
    }
   ],
   "source": [
    "full_df"
   ]
  },
  {
   "cell_type": "markdown",
   "id": "5ccdf3d8",
   "metadata": {
    "papermill": {
     "duration": 0.014626,
     "end_time": "2023-08-17T16:57:05.258749",
     "exception": false,
     "start_time": "2023-08-17T16:57:05.244123",
     "status": "completed"
    },
    "tags": []
   },
   "source": [
    "We know that people who are in CryoSleep won't be spending any money, nor will they be buying VIP. So if there are any NaN values for people in CryoSleep in either of those categories, we can just substitute in the values we know they have."
   ]
  },
  {
   "cell_type": "code",
   "execution_count": 7,
   "id": "10257334",
   "metadata": {
    "execution": {
     "iopub.execute_input": "2023-08-17T16:57:05.291297Z",
     "iopub.status.busy": "2023-08-17T16:57:05.290802Z",
     "iopub.status.idle": "2023-08-17T16:57:05.328034Z",
     "shell.execute_reply": "2023-08-17T16:57:05.326809Z"
    },
    "papermill": {
     "duration": 0.057251,
     "end_time": "2023-08-17T16:57:05.331189",
     "exception": false,
     "start_time": "2023-08-17T16:57:05.273938",
     "status": "completed"
    },
    "tags": []
   },
   "outputs": [],
   "source": [
    "# List the columns we want to change\n",
    "zero_columns = ['RoomService', 'FoodCourt', 'ShoppingMall', 'Spa', 'VRDeck']\n",
    "false_columns = ['VIP']\n",
    "\n",
    "# Condition is met if person is in CryoSleep\n",
    "condition = (full_df['CryoSleep'] == True)\n",
    "\n",
    "# Locate all rows with this condition and fill in the values for what we know them to be\n",
    "full_df.loc[~condition, zero_columns] = full_df.loc[~condition, zero_columns].fillna(0)\n",
    "full_df.loc[~condition, false_columns] = full_df.loc[~condition, false_columns].fillna(False)"
   ]
  },
  {
   "cell_type": "markdown",
   "id": "0c3ea58d",
   "metadata": {
    "papermill": {
     "duration": 0.01467,
     "end_time": "2023-08-17T16:57:05.361148",
     "exception": false,
     "start_time": "2023-08-17T16:57:05.346478",
     "status": "completed"
    },
    "tags": []
   },
   "source": [
    "If we know that the people who are in CryoSleep aren't spending any money, then we know that anyone who has NaN for CryoSleep, but is spending money is probably not in CryoSleep, so let's fill in these values as well."
   ]
  },
  {
   "cell_type": "code",
   "execution_count": 8,
   "id": "04359b35",
   "metadata": {
    "execution": {
     "iopub.execute_input": "2023-08-17T16:57:05.393875Z",
     "iopub.status.busy": "2023-08-17T16:57:05.393419Z",
     "iopub.status.idle": "2023-08-17T16:57:05.413990Z",
     "shell.execute_reply": "2023-08-17T16:57:05.411999Z"
    },
    "papermill": {
     "duration": 0.041015,
     "end_time": "2023-08-17T16:57:05.417455",
     "exception": false,
     "start_time": "2023-08-17T16:57:05.376440",
     "status": "completed"
    },
    "tags": []
   },
   "outputs": [],
   "source": [
    "zero_columns = ['RoomService', 'FoodCourt', 'ShoppingMall', 'Spa', 'VRDeck']\n",
    "cryosleep_column = ['CryoSleep']\n",
    "\n",
    "# Condition is if all money columns are equal to zero\n",
    "condition = (full_df[zero_columns].eq(0).all(axis=1))\n",
    "\n",
    "#  Fill in NaN CryoSleep values as True if condition is met\n",
    "full_df.loc[~condition, cryosleep_column] = full_df.loc[~condition, cryosleep_column].fillna(True)"
   ]
  },
  {
   "cell_type": "markdown",
   "id": "123638b5",
   "metadata": {
    "papermill": {
     "duration": 0.014644,
     "end_time": "2023-08-17T16:57:05.447343",
     "exception": false,
     "start_time": "2023-08-17T16:57:05.432699",
     "status": "completed"
    },
    "tags": []
   },
   "source": [
    "Now that we have that out of the way, the only values that should be left in CryoSleep are for people who are not in CryoSleep, so we will fill in the rest of the columns as False."
   ]
  },
  {
   "cell_type": "code",
   "execution_count": 9,
   "id": "cfb10ba5",
   "metadata": {
    "execution": {
     "iopub.execute_input": "2023-08-17T16:57:05.480102Z",
     "iopub.status.busy": "2023-08-17T16:57:05.479695Z",
     "iopub.status.idle": "2023-08-17T16:57:05.489277Z",
     "shell.execute_reply": "2023-08-17T16:57:05.488018Z"
    },
    "papermill": {
     "duration": 0.028699,
     "end_time": "2023-08-17T16:57:05.491737",
     "exception": false,
     "start_time": "2023-08-17T16:57:05.463038",
     "status": "completed"
    },
    "tags": []
   },
   "outputs": [],
   "source": [
    "full_df['CryoSleep'].fillna(False, inplace=True)"
   ]
  },
  {
   "cell_type": "code",
   "execution_count": 10,
   "id": "63a0c797",
   "metadata": {
    "execution": {
     "iopub.execute_input": "2023-08-17T16:57:05.522982Z",
     "iopub.status.busy": "2023-08-17T16:57:05.522597Z",
     "iopub.status.idle": "2023-08-17T16:57:05.562959Z",
     "shell.execute_reply": "2023-08-17T16:57:05.561606Z"
    },
    "papermill": {
     "duration": 0.059351,
     "end_time": "2023-08-17T16:57:05.565967",
     "exception": false,
     "start_time": "2023-08-17T16:57:05.506616",
     "status": "completed"
    },
    "tags": []
   },
   "outputs": [
    {
     "data": {
      "text/plain": [
       "PassengerId        0\n",
       "HomePlanet       288\n",
       "CryoSleep          0\n",
       "Cabin            299\n",
       "Destination      274\n",
       "Age              270\n",
       "VIP              104\n",
       "RoomService       93\n",
       "FoodCourt        109\n",
       "ShoppingMall     131\n",
       "Spa              107\n",
       "VRDeck            91\n",
       "Name             294\n",
       "Transported     4277\n",
       "dtype: int64"
      ]
     },
     "execution_count": 10,
     "metadata": {},
     "output_type": "execute_result"
    }
   ],
   "source": [
    "full_df.isna().sum()"
   ]
  },
  {
   "cell_type": "markdown",
   "id": "7bc5a87a",
   "metadata": {
    "papermill": {
     "duration": 0.01454,
     "end_time": "2023-08-17T16:57:05.596290",
     "exception": false,
     "start_time": "2023-08-17T16:57:05.581750",
     "status": "completed"
    },
    "tags": []
   },
   "source": [
    "Now that the missing values are looking more sparse than previously, we should try to get a visual of the rest of the missing values."
   ]
  },
  {
   "cell_type": "code",
   "execution_count": 11,
   "id": "56c1814c",
   "metadata": {
    "execution": {
     "iopub.execute_input": "2023-08-17T16:57:05.628766Z",
     "iopub.status.busy": "2023-08-17T16:57:05.628345Z",
     "iopub.status.idle": "2023-08-17T16:57:08.278619Z",
     "shell.execute_reply": "2023-08-17T16:57:08.277642Z"
    },
    "papermill": {
     "duration": 2.670201,
     "end_time": "2023-08-17T16:57:08.281291",
     "exception": false,
     "start_time": "2023-08-17T16:57:05.611090",
     "status": "completed"
    },
    "tags": []
   },
   "outputs": [
    {
     "name": "stderr",
     "output_type": "stream",
     "text": [
      "/opt/conda/lib/python3.10/site-packages/scipy/__init__.py:146: UserWarning: A NumPy version >=1.16.5 and <1.23.0 is required for this version of SciPy (detected version 1.23.5\n",
      "  warnings.warn(f\"A NumPy version >={np_minversion} and <{np_maxversion}\"\n"
     ]
    },
    {
     "data": {
      "image/png": "[encoded data removed]",
      "text/plain": [
       "<Figure size 2500x1000 with 2 Axes>"
      ]
     },
     "metadata": {},
     "output_type": "display_data"
    },
    {
     "data": {
      "text/plain": [
       "<Figure size 1500x900 with 0 Axes>"
      ]
     },
     "metadata": {},
     "output_type": "display_data"
    }
   ],
   "source": [
    "import missingno as msno\n",
    "import matplotlib.pyplot as plt\n",
    "\n",
    "msno.matrix(full_df)\n",
    "plt.figure(figsize=(15, 9))\n",
    "plt.show()"
   ]
  },
  {
   "cell_type": "markdown",
   "id": "684b1e63",
   "metadata": {
    "papermill": {
     "duration": 0.017085,
     "end_time": "2023-08-17T16:57:08.315000",
     "exception": false,
     "start_time": "2023-08-17T16:57:08.297915",
     "status": "completed"
    },
    "tags": []
   },
   "source": [
    "The transported column makes sense because the test set has no Transported column."
   ]
  },
  {
   "cell_type": "code",
   "execution_count": 12,
   "id": "facd47ce",
   "metadata": {
    "execution": {
     "iopub.execute_input": "2023-08-17T16:57:08.351310Z",
     "iopub.status.busy": "2023-08-17T16:57:08.349924Z",
     "iopub.status.idle": "2023-08-17T16:57:09.233560Z",
     "shell.execute_reply": "2023-08-17T16:57:09.232011Z"
    },
    "papermill": {
     "duration": 0.90536,
     "end_time": "2023-08-17T16:57:09.237034",
     "exception": false,
     "start_time": "2023-08-17T16:57:08.331674",
     "status": "completed"
    },
    "tags": []
   },
   "outputs": [
    {
     "data": {
      "text/plain": [
       "<Axes: >"
      ]
     },
     "execution_count": 12,
     "metadata": {},
     "output_type": "execute_result"
    },
    {
     "data": {
      "image/png": "[encoded data removed]",
      "text/plain": [
       "<Figure size 2000x1200 with 2 Axes>"
      ]
     },
     "metadata": {},
     "output_type": "display_data"
    }
   ],
   "source": [
    "# It looks like the missing values are pretty widespread throughout the data\n",
    "# Lets get a closer look\n",
    "msno.heatmap(full_df, labels=True) "
   ]
  },
  {
   "cell_type": "markdown",
   "id": "89af0701",
   "metadata": {
    "papermill": {
     "duration": 0.019098,
     "end_time": "2023-08-17T16:57:09.275521",
     "exception": false,
     "start_time": "2023-08-17T16:57:09.256423",
     "status": "completed"
    },
    "tags": []
   },
   "source": [
    "The rest of these code blocks are just for data visualization, feel free to play around with the columns to see which columns have interesting interactions."
   ]
  },
  {
   "cell_type": "code",
   "execution_count": 13,
   "id": "f23438a2",
   "metadata": {
    "execution": {
     "iopub.execute_input": "2023-08-17T16:57:09.315712Z",
     "iopub.status.busy": "2023-08-17T16:57:09.315228Z",
     "iopub.status.idle": "2023-08-17T16:57:11.638506Z",
     "shell.execute_reply": "2023-08-17T16:57:11.637122Z"
    },
    "papermill": {
     "duration": 2.34667,
     "end_time": "2023-08-17T16:57:11.641290",
     "exception": false,
     "start_time": "2023-08-17T16:57:09.294620",
     "status": "completed"
    },
    "tags": []
   },
   "outputs": [
    {
     "name": "stderr",
     "output_type": "stream",
     "text": [
      "/opt/conda/lib/python3.10/site-packages/seaborn/axisgrid.py:118: UserWarning: The figure layout has changed to tight\n",
      "  self._figure.tight_layout(*args, **kwargs)\n"
     ]
    },
    {
     "data": {
      "image/png": "[encoded data removed]",
      "text/plain": [
       "<Figure size 500x500 with 1 Axes>"
      ]
     },
     "metadata": {},
     "output_type": "display_data"
    }
   ],
   "source": [
    "import seaborn as sns\n",
    "sample_df = full_df.sample(n=1000)\n",
    "\n",
    "# Age has no effect on being transported\n",
    "# People who spent more on roomservice were less likely to be transported\n",
    "# Older people were less likely to use CryoSleep\n",
    "# Not many VIP's, but the ones who were werent younger than 20\n",
    "# Europans were typically older than earthlings, most martians were evenly distributed\n",
    "# Europans spent more on roomservice due to outliers, earthlings spend the least on roomservice, while martians spend more overall\n",
    "# This metric seems to persist throughout the data\n",
    "# Most people were going to TRAPPIST, while the least were going to J318\n",
    "\n",
    "\n",
    "sns.set(style='ticks')\n",
    "sns.catplot(x='Destination', y='Age', kind='swarm', data=sample_df, s=2)\n",
    "plt.show()"
   ]
  },
  {
   "cell_type": "code",
   "execution_count": 14,
   "id": "11ea0328",
   "metadata": {
    "execution": {
     "iopub.execute_input": "2023-08-17T16:57:11.682687Z",
     "iopub.status.busy": "2023-08-17T16:57:11.682057Z",
     "iopub.status.idle": "2023-08-17T16:57:11.977337Z",
     "shell.execute_reply": "2023-08-17T16:57:11.976268Z"
    },
    "papermill": {
     "duration": 0.319272,
     "end_time": "2023-08-17T16:57:11.979903",
     "exception": false,
     "start_time": "2023-08-17T16:57:11.660631",
     "status": "completed"
    },
    "tags": []
   },
   "outputs": [
    {
     "data": {
      "image/png": "[encoded data removed]",
      "text/plain": [
       "<Figure size 640x480 with 1 Axes>"
      ]
     },
     "metadata": {},
     "output_type": "display_data"
    }
   ],
   "source": [
    "sns.countplot(x='Destination',hue='VIP', data=full_df)\n",
    "plt.show()\n",
    "# Nobody chose VIP if they were in CryoSleep, so any people with VIP should have CryoSleep filled in as false\n",
    "# Most Earthlings were going to Trappist, so just fill in both earth and mars with trappist\n",
    "# Europa is half and half between trappist and 55 Cancri e, perhaps fill in half with each, otherwise just leave it be"
   ]
  },
  {
   "cell_type": "markdown",
   "id": "28969c14",
   "metadata": {
    "papermill": {
     "duration": 0.01968,
     "end_time": "2023-08-17T16:57:12.019574",
     "exception": false,
     "start_time": "2023-08-17T16:57:11.999894",
     "status": "completed"
    },
    "tags": []
   },
   "source": [
    "The column for cabin has very important details that will be overlooked of we don't manipulate the column into more columns. Let's split the column into it's respective parts to make this easier on ourselves."
   ]
  },
  {
   "cell_type": "code",
   "execution_count": 15,
   "id": "fe1d25e7",
   "metadata": {
    "execution": {
     "iopub.execute_input": "2023-08-17T16:57:12.063505Z",
     "iopub.status.busy": "2023-08-17T16:57:12.063001Z",
     "iopub.status.idle": "2023-08-17T16:57:12.123537Z",
     "shell.execute_reply": "2023-08-17T16:57:12.122058Z"
    },
    "papermill": {
     "duration": 0.08679,
     "end_time": "2023-08-17T16:57:12.126404",
     "exception": false,
     "start_time": "2023-08-17T16:57:12.039614",
     "status": "completed"
    },
    "tags": []
   },
   "outputs": [
    {
     "data": {
      "text/html": [
       "<div>\n",
       "<style scoped>\n",
       "    .dataframe tbody tr th:only-of-type {\n",
       "        vertical-align: middle;\n",
       "    }\n",
       "\n",
       "    .dataframe tbody tr th {\n",
       "        vertical-align: top;\n",
       "    }\n",
       "\n",
       "    .dataframe thead th {\n",
       "        text-align: right;\n",
       "    }\n",
       "</style>\n",
       "<table border=\"1\" class=\"dataframe\">\n",
       "  <thead>\n",
       "    <tr style=\"text-align: right;\">\n",
       "      <th></th>\n",
       "      <th>PassengerId</th>\n",
       "      <th>HomePlanet</th>\n",
       "      <th>CryoSleep</th>\n",
       "      <th>Destination</th>\n",
       "      <th>Age</th>\n",
       "      <th>VIP</th>\n",
       "      <th>RoomService</th>\n",
       "      <th>FoodCourt</th>\n",
       "      <th>ShoppingMall</th>\n",
       "      <th>Spa</th>\n",
       "      <th>VRDeck</th>\n",
       "      <th>Name</th>\n",
       "      <th>Transported</th>\n",
       "      <th>Deck</th>\n",
       "      <th>Room_Number</th>\n",
       "      <th>Side</th>\n",
       "    </tr>\n",
       "  </thead>\n",
       "  <tbody>\n",
       "    <tr>\n",
       "      <th>0</th>\n",
       "      <td>0001_01</td>\n",
       "      <td>Europa</td>\n",
       "      <td>False</td>\n",
       "      <td>TRAPPIST-1e</td>\n",
       "      <td>39.0</td>\n",
       "      <td>False</td>\n",
       "      <td>0.0</td>\n",
       "      <td>0.0</td>\n",
       "      <td>0.0</td>\n",
       "      <td>0.0</td>\n",
       "      <td>0.0</td>\n",
       "      <td>Maham Ofracculy</td>\n",
       "      <td>False</td>\n",
       "      <td>B</td>\n",
       "      <td>0</td>\n",
       "      <td>P</td>\n",
       "    </tr>\n",
       "    <tr>\n",
       "      <th>1</th>\n",
       "      <td>0002_01</td>\n",
       "      <td>Earth</td>\n",
       "      <td>False</td>\n",
       "      <td>TRAPPIST-1e</td>\n",
       "      <td>24.0</td>\n",
       "      <td>False</td>\n",
       "      <td>109.0</td>\n",
       "      <td>9.0</td>\n",
       "      <td>25.0</td>\n",
       "      <td>549.0</td>\n",
       "      <td>44.0</td>\n",
       "      <td>Juanna Vines</td>\n",
       "      <td>True</td>\n",
       "      <td>F</td>\n",
       "      <td>0</td>\n",
       "      <td>S</td>\n",
       "    </tr>\n",
       "    <tr>\n",
       "      <th>2</th>\n",
       "      <td>0003_01</td>\n",
       "      <td>Europa</td>\n",
       "      <td>False</td>\n",
       "      <td>TRAPPIST-1e</td>\n",
       "      <td>58.0</td>\n",
       "      <td>True</td>\n",
       "      <td>43.0</td>\n",
       "      <td>3576.0</td>\n",
       "      <td>0.0</td>\n",
       "      <td>6715.0</td>\n",
       "      <td>49.0</td>\n",
       "      <td>Altark Susent</td>\n",
       "      <td>False</td>\n",
       "      <td>A</td>\n",
       "      <td>0</td>\n",
       "      <td>S</td>\n",
       "    </tr>\n",
       "    <tr>\n",
       "      <th>3</th>\n",
       "      <td>0003_02</td>\n",
       "      <td>Europa</td>\n",
       "      <td>False</td>\n",
       "      <td>TRAPPIST-1e</td>\n",
       "      <td>33.0</td>\n",
       "      <td>False</td>\n",
       "      <td>0.0</td>\n",
       "      <td>1283.0</td>\n",
       "      <td>371.0</td>\n",
       "      <td>3329.0</td>\n",
       "      <td>193.0</td>\n",
       "      <td>Solam Susent</td>\n",
       "      <td>False</td>\n",
       "      <td>A</td>\n",
       "      <td>0</td>\n",
       "      <td>S</td>\n",
       "    </tr>\n",
       "    <tr>\n",
       "      <th>4</th>\n",
       "      <td>0004_01</td>\n",
       "      <td>Earth</td>\n",
       "      <td>False</td>\n",
       "      <td>TRAPPIST-1e</td>\n",
       "      <td>16.0</td>\n",
       "      <td>False</td>\n",
       "      <td>303.0</td>\n",
       "      <td>70.0</td>\n",
       "      <td>151.0</td>\n",
       "      <td>565.0</td>\n",
       "      <td>2.0</td>\n",
       "      <td>Willy Santantines</td>\n",
       "      <td>True</td>\n",
       "      <td>F</td>\n",
       "      <td>1</td>\n",
       "      <td>S</td>\n",
       "    </tr>\n",
       "  </tbody>\n",
       "</table>\n",
       "</div>"
      ],
      "text/plain": [
       "  PassengerId HomePlanet  CryoSleep  Destination   Age    VIP  RoomService  \\\n",
       "0     0001_01     Europa      False  TRAPPIST-1e  39.0  False          0.0   \n",
       "1     0002_01      Earth      False  TRAPPIST-1e  24.0  False        109.0   \n",
       "2     0003_01     Europa      False  TRAPPIST-1e  58.0   True         43.0   \n",
       "3     0003_02     Europa      False  TRAPPIST-1e  33.0  False          0.0   \n",
       "4     0004_01      Earth      False  TRAPPIST-1e  16.0  False        303.0   \n",
       "\n",
       "   FoodCourt  ShoppingMall     Spa  VRDeck               Name Transported  \\\n",
       "0        0.0           0.0     0.0     0.0    Maham Ofracculy       False   \n",
       "1        9.0          25.0   549.0    44.0       Juanna Vines        True   \n",
       "2     3576.0           0.0  6715.0    49.0      Altark Susent       False   \n",
       "3     1283.0         371.0  3329.0   193.0       Solam Susent       False   \n",
       "4       70.0         151.0   565.0     2.0  Willy Santantines        True   \n",
       "\n",
       "  Deck Room_Number Side  \n",
       "0    B           0    P  \n",
       "1    F           0    S  \n",
       "2    A           0    S  \n",
       "3    A           0    S  \n",
       "4    F           1    S  "
      ]
     },
     "execution_count": 15,
     "metadata": {},
     "output_type": "execute_result"
    }
   ],
   "source": [
    "# First, lets separate the data in the cabin column into it's respective pieces of data\n",
    "cabin_split = full_df['Cabin'].str.split('/', expand=True)\n",
    "cabin_split.columns = ['Deck', 'Room_Number', 'Side']\n",
    "new_df = pd.concat([full_df, cabin_split], axis=1)\n",
    "full_df = new_df\n",
    "full_df.drop(columns=['Cabin'], inplace=True)\n",
    "full_df.head()"
   ]
  },
  {
   "cell_type": "markdown",
   "id": "312a04f1",
   "metadata": {
    "papermill": {
     "duration": 0.019309,
     "end_time": "2023-08-17T16:57:12.165921",
     "exception": false,
     "start_time": "2023-08-17T16:57:12.146612",
     "status": "completed"
    },
    "tags": []
   },
   "source": [
    "We will need to impute the age column at some point to deal with the missing values. Since this column is probably quite important, we should be careful with how we impute it. I will be filling in the age column based on the average ages of people grouped by HomePlanet and whether or not they are in CryoSleep"
   ]
  },
  {
   "cell_type": "code",
   "execution_count": 16,
   "id": "f042f7e2",
   "metadata": {
    "execution": {
     "iopub.execute_input": "2023-08-17T16:57:12.207574Z",
     "iopub.status.busy": "2023-08-17T16:57:12.207122Z",
     "iopub.status.idle": "2023-08-17T16:57:12.232802Z",
     "shell.execute_reply": "2023-08-17T16:57:12.231672Z"
    },
    "papermill": {
     "duration": 0.049137,
     "end_time": "2023-08-17T16:57:12.235215",
     "exception": false,
     "start_time": "2023-08-17T16:57:12.186078",
     "status": "completed"
    },
    "tags": []
   },
   "outputs": [
    {
     "name": "stdout",
     "output_type": "stream",
     "text": [
      "HomePlanet  CryoSleep\n",
      "Earth       False        27.056735\n",
      "            True         23.575071\n",
      "Europa      False        35.488731\n",
      "            True         32.929037\n",
      "Mars        False        29.800888\n",
      "            True         28.934426\n",
      "Name: Age, dtype: float64\n"
     ]
    }
   ],
   "source": [
    "group_means = full_df.groupby(['HomePlanet', 'CryoSleep'])['Age'].mean()\n",
    "print(group_means)"
   ]
  },
  {
   "cell_type": "code",
   "execution_count": 17,
   "id": "ca7837f7",
   "metadata": {
    "execution": {
     "iopub.execute_input": "2023-08-17T16:57:12.276640Z",
     "iopub.status.busy": "2023-08-17T16:57:12.275910Z",
     "iopub.status.idle": "2023-08-17T16:57:12.306721Z",
     "shell.execute_reply": "2023-08-17T16:57:12.305474Z"
    },
    "papermill": {
     "duration": 0.055048,
     "end_time": "2023-08-17T16:57:12.309726",
     "exception": false,
     "start_time": "2023-08-17T16:57:12.254678",
     "status": "completed"
    },
    "tags": []
   },
   "outputs": [],
   "source": [
    "# Fill in NaN values for Age\n",
    "group_means = full_df.groupby(['HomePlanet', 'CryoSleep'], group_keys=True)['Age'].mean().reset_index(name='Age_mean')\n",
    "full_df = full_df.merge(group_means, on=['HomePlanet', 'CryoSleep'], how='left')\n",
    "full_df['Age'] = full_df['Age'].fillna(full_df['Age_mean'])\n",
    "full_df.drop(columns=['Age_mean'], inplace=True)"
   ]
  },
  {
   "cell_type": "code",
   "execution_count": 18,
   "id": "2d1792cc",
   "metadata": {
    "execution": {
     "iopub.execute_input": "2023-08-17T16:57:12.356385Z",
     "iopub.status.busy": "2023-08-17T16:57:12.355868Z",
     "iopub.status.idle": "2023-08-17T16:57:12.408251Z",
     "shell.execute_reply": "2023-08-17T16:57:12.406727Z"
    },
    "papermill": {
     "duration": 0.080578,
     "end_time": "2023-08-17T16:57:12.411184",
     "exception": false,
     "start_time": "2023-08-17T16:57:12.330606",
     "status": "completed"
    },
    "tags": []
   },
   "outputs": [
    {
     "data": {
      "text/plain": [
       "PassengerId        0\n",
       "HomePlanet       288\n",
       "CryoSleep          0\n",
       "Destination      274\n",
       "Age                5\n",
       "VIP              104\n",
       "RoomService       93\n",
       "FoodCourt        109\n",
       "ShoppingMall     131\n",
       "Spa              107\n",
       "VRDeck            91\n",
       "Name             294\n",
       "Transported     4277\n",
       "Deck             299\n",
       "Room_Number      299\n",
       "Side             299\n",
       "dtype: int64"
      ]
     },
     "execution_count": 18,
     "metadata": {},
     "output_type": "execute_result"
    }
   ],
   "source": [
    "full_df.isna().sum()"
   ]
  },
  {
   "cell_type": "markdown",
   "id": "fc162835",
   "metadata": {
    "papermill": {
     "duration": 0.024222,
     "end_time": "2023-08-17T16:57:12.455580",
     "exception": false,
     "start_time": "2023-08-17T16:57:12.431358",
     "status": "completed"
    },
    "tags": []
   },
   "source": [
    "The NaN's are looking much better than they were, so let's move onto the rest of the data processing, and then onto models."
   ]
  },
  {
   "cell_type": "code",
   "execution_count": 19,
   "id": "85a52aad",
   "metadata": {
    "execution": {
     "iopub.execute_input": "2023-08-17T16:57:12.513729Z",
     "iopub.status.busy": "2023-08-17T16:57:12.512329Z",
     "iopub.status.idle": "2023-08-17T16:57:13.084023Z",
     "shell.execute_reply": "2023-08-17T16:57:13.082730Z"
    },
    "papermill": {
     "duration": 0.605681,
     "end_time": "2023-08-17T16:57:13.087328",
     "exception": false,
     "start_time": "2023-08-17T16:57:12.481647",
     "status": "completed"
    },
    "tags": []
   },
   "outputs": [],
   "source": [
    "# Now we can continue with imputing/preprocessing\n",
    "from sklearn.compose import ColumnTransformer\n",
    "from sklearn.pipeline import Pipeline\n",
    "from sklearn.preprocessing import StandardScaler, OneHotEncoder\n",
    "from sklearn.impute import SimpleImputer\n",
    "\n",
    "\n",
    "# Specify numerical and categorical features\n",
    "numerical_features = ['Room_Number', 'Age', 'RoomService', 'FoodCourt','ShoppingMall','Spa','VRDeck']\n",
    "categorical_features = ['HomePlanet','CryoSleep','Destination','VIP','Deck', 'Side']\n",
    "\n",
    "# Create preprocessing pipelines for numerical and categorical features\n",
    "numerical_pipeline = Pipeline([\n",
    "    ('imputer', SimpleImputer(strategy='mean')),\n",
    "    ('scaler', StandardScaler())\n",
    "])\n",
    "\n",
    "categorical_pipeline = Pipeline([\n",
    "    ('inputer', SimpleImputer(strategy='most_frequent')),\n",
    "    ('encoder', OneHotEncoder(handle_unknown='ignore'))\n",
    "])\n",
    "\n",
    "# Combine pipelines using ColumnTransformer\n",
    "preprocessor = ColumnTransformer([\n",
    "    ('numerical', numerical_pipeline, numerical_features),\n",
    "    ('categorical', categorical_pipeline, categorical_features)\n",
    "])\n"
   ]
  },
  {
   "cell_type": "markdown",
   "id": "bfa5f5d2",
   "metadata": {
    "papermill": {
     "duration": 0.020373,
     "end_time": "2023-08-17T16:57:13.128140",
     "exception": false,
     "start_time": "2023-08-17T16:57:13.107767",
     "status": "completed"
    },
    "tags": []
   },
   "source": [
    "We are going to continue onto the next steps of separating the DF's back into what they are supposed to be, then we will be starting training for our models. I will be tampering with the parameters on a separate notebook, so the ones you see in this notebook will be better overall from what I test. Just know that there was more going on behind the scenes."
   ]
  },
  {
   "cell_type": "code",
   "execution_count": 20,
   "id": "57feab53",
   "metadata": {
    "execution": {
     "iopub.execute_input": "2023-08-17T16:57:13.171848Z",
     "iopub.status.busy": "2023-08-17T16:57:13.170403Z",
     "iopub.status.idle": "2023-08-17T16:57:13.188354Z",
     "shell.execute_reply": "2023-08-17T16:57:13.187044Z"
    },
    "papermill": {
     "duration": 0.042519,
     "end_time": "2023-08-17T16:57:13.190986",
     "exception": false,
     "start_time": "2023-08-17T16:57:13.148467",
     "status": "completed"
    },
    "tags": []
   },
   "outputs": [
    {
     "name": "stderr",
     "output_type": "stream",
     "text": [
      "/tmp/ipykernel_20/755381303.py:8: SettingWithCopyWarning: \n",
      "A value is trying to be set on a copy of a slice from a DataFrame\n",
      "\n",
      "See the caveats in the documentation: https://pandas.pydata.org/pandas-docs/stable/user_guide/indexing.html#returning-a-view-versus-a-copy\n",
      "  train_df.drop(columns=['Transported'], inplace=True)\n",
      "/tmp/ipykernel_20/755381303.py:9: SettingWithCopyWarning: \n",
      "A value is trying to be set on a copy of a slice from a DataFrame\n",
      "\n",
      "See the caveats in the documentation: https://pandas.pydata.org/pandas-docs/stable/user_guide/indexing.html#returning-a-view-versus-a-copy\n",
      "  test_df.drop(columns=['Transported'], inplace=True)\n"
     ]
    },
    {
     "data": {
      "text/plain": [
       "0    False\n",
       "1     True\n",
       "2    False\n",
       "3    False\n",
       "4     True\n",
       "Name: Transported, dtype: bool"
      ]
     },
     "execution_count": 20,
     "metadata": {},
     "output_type": "execute_result"
    }
   ],
   "source": [
    "# Separate DF back into respective DF's\n",
    "train_df, test_df = separate_df(full_df,train_df_len,test_df_len)\n",
    "\n",
    "# Set up target\n",
    "y = train_df['Transported']\n",
    "\n",
    "# Take target out of both train and test sets\n",
    "train_df.drop(columns=['Transported'], inplace=True)\n",
    "test_df.drop(columns=['Transported'], inplace=True)\n",
    "\n",
    "# Y needs to be changed to actual binary values instead of strings\n",
    "y = y.astype(bool)\n",
    "y.head()"
   ]
  },
  {
   "cell_type": "markdown",
   "id": "bbe28608",
   "metadata": {
    "papermill": {
     "duration": 0.020387,
     "end_time": "2023-08-17T16:57:13.233016",
     "exception": false,
     "start_time": "2023-08-17T16:57:13.212629",
     "status": "completed"
    },
    "tags": []
   },
   "source": [
    "Now we will be transforming our data to be what the ML models will need to predict with our data. This means one hot encoding categorical features, and scaling our numerical features."
   ]
  },
  {
   "cell_type": "code",
   "execution_count": 21,
   "id": "fb083171",
   "metadata": {
    "execution": {
     "iopub.execute_input": "2023-08-17T16:57:13.277280Z",
     "iopub.status.busy": "2023-08-17T16:57:13.275936Z",
     "iopub.status.idle": "2023-08-17T16:57:13.281049Z",
     "shell.execute_reply": "2023-08-17T16:57:13.280210Z"
    },
    "papermill": {
     "duration": 0.029699,
     "end_time": "2023-08-17T16:57:13.283469",
     "exception": false,
     "start_time": "2023-08-17T16:57:13.253770",
     "status": "completed"
    },
    "tags": []
   },
   "outputs": [],
   "source": [
    "# Need this for later\n",
    "from sklearn.model_selection import cross_val_score, cross_validate, train_test_split\n",
    "SEED = 42"
   ]
  },
  {
   "cell_type": "code",
   "execution_count": 22,
   "id": "85844f8d",
   "metadata": {
    "execution": {
     "iopub.execute_input": "2023-08-17T16:57:13.328918Z",
     "iopub.status.busy": "2023-08-17T16:57:13.327662Z",
     "iopub.status.idle": "2023-08-17T16:57:13.336011Z",
     "shell.execute_reply": "2023-08-17T16:57:13.334374Z"
    },
    "papermill": {
     "duration": 0.033603,
     "end_time": "2023-08-17T16:57:13.338629",
     "exception": false,
     "start_time": "2023-08-17T16:57:13.305026",
     "status": "completed"
    },
    "tags": []
   },
   "outputs": [
    {
     "name": "stdout",
     "output_type": "stream",
     "text": [
      "X_train shape: (8693, 15)\n",
      "y_train shape: (8693,)\n",
      "X_test shape: (4277, 15)\n"
     ]
    }
   ],
   "source": [
    "# Shape before transformation\n",
    "print('X_train shape: {}'.format(train_df.shape))\n",
    "print('y_train shape: {}'.format(y.shape))\n",
    "print('X_test shape: {}'.format(test_df.shape))"
   ]
  },
  {
   "cell_type": "code",
   "execution_count": 23,
   "id": "e821f5d9",
   "metadata": {
    "execution": {
     "iopub.execute_input": "2023-08-17T16:57:13.383195Z",
     "iopub.status.busy": "2023-08-17T16:57:13.382688Z",
     "iopub.status.idle": "2023-08-17T16:57:13.500903Z",
     "shell.execute_reply": "2023-08-17T16:57:13.499648Z"
    },
    "papermill": {
     "duration": 0.144553,
     "end_time": "2023-08-17T16:57:13.504314",
     "exception": false,
     "start_time": "2023-08-17T16:57:13.359761",
     "status": "completed"
    },
    "tags": []
   },
   "outputs": [],
   "source": [
    "# Fit data to preprocessor, and clean the data, rename columns to correct names afterwards\n",
    "transformed_data_train = preprocessor.fit_transform(train_df)\n",
    "transformed_data_test = preprocessor.transform(test_df)\n",
    "\n",
    "feature_names = preprocessor.named_transformers_['categorical'] \\\n",
    "    .named_steps['encoder'].get_feature_names_out(input_features=categorical_features) \n",
    "\n",
    "all_feature_names = numerical_features + list(feature_names)"
   ]
  },
  {
   "cell_type": "code",
   "execution_count": 24,
   "id": "c1c9c3bf",
   "metadata": {
    "execution": {
     "iopub.execute_input": "2023-08-17T16:57:13.549320Z",
     "iopub.status.busy": "2023-08-17T16:57:13.548865Z",
     "iopub.status.idle": "2023-08-17T16:57:13.555314Z",
     "shell.execute_reply": "2023-08-17T16:57:13.553959Z"
    },
    "papermill": {
     "duration": 0.032367,
     "end_time": "2023-08-17T16:57:13.557704",
     "exception": false,
     "start_time": "2023-08-17T16:57:13.525337",
     "status": "completed"
    },
    "tags": []
   },
   "outputs": [],
   "source": [
    "# Turns data into dataframes\n",
    "transformed_train_df = pd.DataFrame(transformed_data_train, columns = all_feature_names)\n",
    "transformed_test_df = pd.DataFrame(transformed_data_test, columns = all_feature_names)"
   ]
  },
  {
   "cell_type": "code",
   "execution_count": 25,
   "id": "fd969bc7",
   "metadata": {
    "execution": {
     "iopub.execute_input": "2023-08-17T16:57:13.601564Z",
     "iopub.status.busy": "2023-08-17T16:57:13.601139Z",
     "iopub.status.idle": "2023-08-17T16:57:13.608409Z",
     "shell.execute_reply": "2023-08-17T16:57:13.606958Z"
    },
    "papermill": {
     "duration": 0.032768,
     "end_time": "2023-08-17T16:57:13.611330",
     "exception": false,
     "start_time": "2023-08-17T16:57:13.578562",
     "status": "completed"
    },
    "tags": []
   },
   "outputs": [
    {
     "name": "stdout",
     "output_type": "stream",
     "text": [
      "X_train shape: (8693, 27)\n",
      "y_train shape: (8693,)\n",
      "X_test shape: (4277, 27)\n"
     ]
    }
   ],
   "source": [
    "# Transformed data check to make sure train and test have same # of categories\n",
    "print('X_train shape: {}'.format(transformed_train_df.shape))\n",
    "print('y_train shape: {}'.format(y.shape))\n",
    "print('X_test shape: {}'.format(transformed_test_df.shape))"
   ]
  },
  {
   "cell_type": "markdown",
   "id": "a4711deb",
   "metadata": {
    "papermill": {
     "duration": 0.021011,
     "end_time": "2023-08-17T16:57:13.653415",
     "exception": false,
     "start_time": "2023-08-17T16:57:13.632404",
     "status": "completed"
    },
    "tags": []
   },
   "source": [
    "Now onto model selection. For this ensemble model, I will be using a Random Forest model, paired with a Gradient Boosting Classifier. These models play well together, and their predictions will be combined using a Logistic Regression model to give results which fit better overall."
   ]
  },
  {
   "cell_type": "code",
   "execution_count": 26,
   "id": "2ac1811a",
   "metadata": {
    "execution": {
     "iopub.execute_input": "2023-08-17T16:57:13.697578Z",
     "iopub.status.busy": "2023-08-17T16:57:13.696851Z",
     "iopub.status.idle": "2023-08-17T16:57:13.898081Z",
     "shell.execute_reply": "2023-08-17T16:57:13.896658Z"
    },
    "papermill": {
     "duration": 0.226515,
     "end_time": "2023-08-17T16:57:13.900948",
     "exception": false,
     "start_time": "2023-08-17T16:57:13.674433",
     "status": "completed"
    },
    "tags": []
   },
   "outputs": [],
   "source": [
    "from sklearn.ensemble import RandomForestClassifier, GradientBoostingClassifier\n",
    "from sklearn.linear_model import LogisticRegression\n",
    "\n",
    "# better model overall, performed better on data with less overfitting\n",
    "#forest_model = RandomForestClassifier(criterion='gini', n_estimators=70, max_depth=5, min_samples_split=2, min_samples_leaf=2,\n",
    "#                                       max_features='sqrt', random_state=SEED)\n",
    "\n",
    "# First GBM Model\n",
    "gbm_model_1 = GradientBoostingClassifier(n_estimators=70, learning_rate=0.1, max_features='sqrt', max_depth=5, random_state=SEED, \n",
    "                                        min_samples_split=2, min_samples_leaf=3, loss='exponential', subsample=0.5)\n",
    "\n",
    "# Second GBM Model\n",
    "gbm_model_2 = GradientBoostingClassifier(n_estimators=70, learning_rate=0.1, max_features='log2', max_depth=5, random_state=SEED, \n",
    "                                        min_samples_split=2, min_samples_leaf=3, subsample=0.5, loss='log_loss')\n",
    "\n",
    "# Third GBM Model\n",
    "gbm_model_3 = GradientBoostingClassifier(n_estimators=70, learning_rate=0.1, max_features='log2', max_depth=5, random_state=SEED, \n",
    "                                        min_samples_split=2, min_samples_leaf=3, subsample=0.5, loss='exponential')"
   ]
  },
  {
   "cell_type": "markdown",
   "id": "7f7f4e2f",
   "metadata": {
    "papermill": {
     "duration": 0.019942,
     "end_time": "2023-08-17T16:57:13.941396",
     "exception": false,
     "start_time": "2023-08-17T16:57:13.921454",
     "status": "completed"
    },
    "tags": []
   },
   "source": [
    "We now need to split our training data into a train and validation set. This is because I want to test how our ensemble interacts before I implement them. I can always test each model separately to get an overall score, but the two models may interact differently when combined. Feel free to run through this section in order to get to the final result submission. Just make sure you run all the cells, as some of them contain important data for training all of the models."
   ]
  },
  {
   "cell_type": "code",
   "execution_count": 27,
   "id": "2790dfd6",
   "metadata": {
    "execution": {
     "iopub.execute_input": "2023-08-17T16:57:13.984774Z",
     "iopub.status.busy": "2023-08-17T16:57:13.984274Z",
     "iopub.status.idle": "2023-08-17T16:57:13.996320Z",
     "shell.execute_reply": "2023-08-17T16:57:13.994964Z"
    },
    "papermill": {
     "duration": 0.037482,
     "end_time": "2023-08-17T16:57:13.999264",
     "exception": false,
     "start_time": "2023-08-17T16:57:13.961782",
     "status": "completed"
    },
    "tags": []
   },
   "outputs": [],
   "source": [
    "X_train, X_test, y_train, y_test = train_test_split(transformed_train_df, y, test_size=0.2, random_state=SEED)"
   ]
  },
  {
   "cell_type": "code",
   "execution_count": 28,
   "id": "79f446e3",
   "metadata": {
    "execution": {
     "iopub.execute_input": "2023-08-17T16:57:14.043539Z",
     "iopub.status.busy": "2023-08-17T16:57:14.043047Z",
     "iopub.status.idle": "2023-08-17T16:57:15.351473Z",
     "shell.execute_reply": "2023-08-17T16:57:15.349694Z"
    },
    "papermill": {
     "duration": 1.333932,
     "end_time": "2023-08-17T16:57:15.354214",
     "exception": false,
     "start_time": "2023-08-17T16:57:14.020282",
     "status": "completed"
    },
    "tags": []
   },
   "outputs": [
    {
     "name": "stdout",
     "output_type": "stream",
     "text": [
      "Ensemble Accuracy: 0.80448533640023\n"
     ]
    }
   ],
   "source": [
    "from sklearn.metrics import accuracy_score\n",
    "\n",
    "# Fit both models\n",
    "gbm_model_1.fit(X_train, y_train)\n",
    "gbm_model_2.fit(X_train, y_train)\n",
    "gbm_model_3.fit(X_train, y_train)\n",
    "\n",
    "# Run through predictions initially to train the Logistic Regression for predicting\n",
    "gbm_1_predictions = gbm_model_1.predict(X_test)\n",
    "gbm_2_predictions = gbm_model_2.predict(X_test)\n",
    "gbm_3_predictions = gbm_model_3.predict(X_test)\n",
    "\n",
    "\n",
    "# Stack both predictions to form a training set for the Logistic Regression\n",
    "stacked_features = np.column_stack((gbm_1_predictions, gbm_2_predictions, gbm_3_predictions))\n",
    "\n",
    "# Fit the meta model to stacked features\n",
    "meta_model = LogisticRegression()\n",
    "meta_model.fit(stacked_features, y_test)\n",
    "\n",
    "# Predict yet again to get a new metric\n",
    "gbm_1_base_preds = gbm_model_1.predict(X_test)\n",
    "gbm_2_base_preds = gbm_model_2.predict(X_test)\n",
    "gbm_3_base_preds = gbm_model_3.predict(X_test)\n",
    "\n",
    "\n",
    "# Stack both predictions yet again\n",
    "stacked_base_preds = np.column_stack((gbm_1_base_preds, gbm_2_base_preds, gbm_3_base_preds))\n",
    "\n",
    "# Get final predictions to gauge overall performance\n",
    "ensemble_predictions = meta_model.predict(stacked_base_preds)\n",
    "\n",
    "# Score the predictions and print them\n",
    "ensemble_accuracy = accuracy_score(y_test, ensemble_predictions)\n",
    "print(\"Ensemble Accuracy:\", ensemble_accuracy)"
   ]
  },
  {
   "cell_type": "markdown",
   "id": "7c62ade9",
   "metadata": {
    "papermill": {
     "duration": 0.020323,
     "end_time": "2023-08-17T16:57:15.395412",
     "exception": false,
     "start_time": "2023-08-17T16:57:15.375089",
     "status": "completed"
    },
    "tags": []
   },
   "source": [
    "Now let's use this model on the final test, and submit it."
   ]
  },
  {
   "cell_type": "code",
   "execution_count": 29,
   "id": "74f46be3",
   "metadata": {
    "execution": {
     "iopub.execute_input": "2023-08-17T16:57:15.438797Z",
     "iopub.status.busy": "2023-08-17T16:57:15.438338Z",
     "iopub.status.idle": "2023-08-17T16:57:15.479609Z",
     "shell.execute_reply": "2023-08-17T16:57:15.478684Z"
    },
    "papermill": {
     "duration": 0.066157,
     "end_time": "2023-08-17T16:57:15.482084",
     "exception": false,
     "start_time": "2023-08-17T16:57:15.415927",
     "status": "completed"
    },
    "tags": []
   },
   "outputs": [],
   "source": [
    "# Get new base predictions for actual test set\n",
    "gbm_1_base_preds = gbm_model_1.predict(transformed_test_df)\n",
    "gbm_2_base_preds = gbm_model_2.predict(transformed_test_df)\n",
    "gbm_3_base_preds = gbm_model_3.predict(transformed_test_df)\n",
    "\n",
    "# Combine both predictions for the meta model to predict\n",
    "stacked_base_preds = np.column_stack((gbm_1_base_preds, gbm_2_base_preds, gbm_3_base_preds))"
   ]
  },
  {
   "cell_type": "code",
   "execution_count": 30,
   "id": "3f329938",
   "metadata": {
    "execution": {
     "iopub.execute_input": "2023-08-17T16:57:15.524737Z",
     "iopub.status.busy": "2023-08-17T16:57:15.524041Z",
     "iopub.status.idle": "2023-08-17T16:57:15.531799Z",
     "shell.execute_reply": "2023-08-17T16:57:15.530376Z"
    },
    "papermill": {
     "duration": 0.034067,
     "end_time": "2023-08-17T16:57:15.536287",
     "exception": false,
     "start_time": "2023-08-17T16:57:15.502220",
     "status": "completed"
    },
    "tags": []
   },
   "outputs": [],
   "source": [
    "# Actually predict the final result\n",
    "ensemble_predictions = meta_model.predict(stacked_base_preds)"
   ]
  },
  {
   "cell_type": "markdown",
   "id": "2f28ec8b",
   "metadata": {
    "papermill": {
     "duration": 0.041247,
     "end_time": "2023-08-17T16:57:15.619506",
     "exception": false,
     "start_time": "2023-08-17T16:57:15.578259",
     "status": "completed"
    },
    "tags": []
   },
   "source": [
    "And there you have it. If you found this at all helpful please consider upvoting the notebook, and feel free to share any thoughts about the notebook in the comments."
   ]
  },
  {
   "cell_type": "code",
   "execution_count": 31,
   "id": "59e05f5d",
   "metadata": {
    "execution": {
     "iopub.execute_input": "2023-08-17T16:57:15.678111Z",
     "iopub.status.busy": "2023-08-17T16:57:15.677705Z",
     "iopub.status.idle": "2023-08-17T16:57:15.698423Z",
     "shell.execute_reply": "2023-08-17T16:57:15.697510Z"
    },
    "papermill": {
     "duration": 0.045169,
     "end_time": "2023-08-17T16:57:15.700854",
     "exception": false,
     "start_time": "2023-08-17T16:57:15.655685",
     "status": "completed"
    },
    "tags": []
   },
   "outputs": [
    {
     "name": "stdout",
     "output_type": "stream",
     "text": [
      "Submission Saved\n"
     ]
    }
   ],
   "source": [
    "output = pd.DataFrame({\n",
    "    'PassengerId' : test_df['PassengerId'],\n",
    "    'Transported' : ensemble_predictions\n",
    "})\n",
    "output.to_csv('submission.csv', index=False)\n",
    "print('Submission Saved')"
   ]
  },
  {
   "cell_type": "code",
   "execution_count": null,
   "id": "a711121f",
   "metadata": {
    "papermill": {
     "duration": 0.020557,
     "end_time": "2023-08-17T16:57:15.742499",
     "exception": false,
     "start_time": "2023-08-17T16:57:15.721942",
     "status": "completed"
    },
    "tags": []
   },
   "outputs": [],
   "source": []
  }
 ],
 "metadata": {
  "kernelspec": {
   "display_name": "Python 3",
   "language": "python",
   "name": "python3"
  },
  "language_info": {
   "codemirror_mode": {
    "name": "ipython",
    "version": 3
   },
   "file_extension": ".py",
   "mimetype": "text/x-python",
   "name": "python",
   "nbconvert_exporter": "python",
   "pygments_lexer": "ipython3",
   "version": "3.10.12"
  },
  "papermill": {
   "default_parameters": {},
   "duration": 24.219372,
   "end_time": "2023-08-17T16:57:16.788692",
   "environment_variables": {},
   "exception": null,
   "input_path": "__notebook__.ipynb",
   "output_path": "__notebook__.ipynb",
   "parameters": {},
   "start_time": "2023-08-17T16:56:52.569320",
   "version": "2.4.0"
  }
 },
 "nbformat": 4,
 "nbformat_minor": 5
}
